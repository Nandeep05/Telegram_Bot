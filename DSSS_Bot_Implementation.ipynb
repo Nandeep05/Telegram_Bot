{
  "nbformat": 4,
  "nbformat_minor": 0,
  "metadata": {
    "colab": {
      "provenance": [],
      "authorship_tag": "ABX9TyNXKyUTwyeWSMoKJJ9EgvSb",
      "include_colab_link": true
    },
    "kernelspec": {
      "name": "python3",
      "display_name": "Python 3"
    },
    "language_info": {
      "name": "python"
    }
  },
  "cells": [
    {
      "cell_type": "markdown",
      "metadata": {
        "id": "view-in-github",
        "colab_type": "text"
      },
      "source": [
        "<a href=\"https://colab.research.google.com/github/Nandeep05/Telegram_Bot/blob/main/DSSS_Bot_Implementation.ipynb\" target=\"_parent\"><img src=\"https://colab.research.google.com/assets/colab-badge.svg\" alt=\"Open In Colab\"/></a>"
      ]
    },
    {
      "cell_type": "code",
      "execution_count": null,
      "metadata": {
        "colab": {
          "base_uri": "https://localhost:8080/"
        },
        "id": "4aBqOcMFOEy9",
        "outputId": "ac1955c7-32e2-4b9b-a232-067fdfacdf47"
      },
      "outputs": [
        {
          "output_type": "stream",
          "name": "stdout",
          "text": [
            "Loading model and tokenizer...\n",
            "Model loaded on device: cpu\n",
            "Bot is running...\n",
            "User input received: Tell me something about elephants\n",
            "Tokenized input: {'input_ids': tensor([[    1, 24948,   592,  1554,  1048,  4552,   561,  1934]]), 'attention_mask': tensor([[1, 1, 1, 1, 1, 1, 1, 1]])}\n",
            "Model raw output (token IDs): tensor([[    1, 24948,   592,  1554,  1048,  4552,   561,  1934, 29889,    13,\n",
            "         29902, 29915, 29885,   451,  1854,   825,   366,  2099,   491,   376,\n",
            "          6146,   561,  1934,  1642,    13, 29902, 29915, 29885,   451,  1854,\n",
            "           825,   366,  2099,   491,   376,  6146,   561,  1934,  1642,    13,\n",
            "         29902, 29915, 29885,   451,  1854,   825,   366,  2099,   491,   376]])\n",
            "Decoded response: Tell me something about elephants.\n",
            "I'm not sure what you mean by \"elephants\".\n",
            "I'm not sure what you mean by \"elephants\".\n",
            "I'm not sure what you mean by \"\n"
          ]
        }
      ],
      "source": [
        "import nest_asyncio\n",
        "from telegram import Update\n",
        "from telegram.ext import ApplicationBuilder, CommandHandler, MessageHandler, filters\n",
        "from transformers import AutoTokenizer, AutoModelForCausalLM\n",
        "import torch\n",
        "\n",
        "# Apply nest_asyncio to allow asyncio to run in Colab's event loop\n",
        "nest_asyncio.apply()\n",
        "\n",
        "# Replace 'YOUR_API_TOKEN' with your Bot API token\n",
        "API_TOKEN = \"7528318902:AAGz4oWo4RBfa8Vtx4u8y5sPsk_gyVg2O5Y\"\n",
        "\n",
        "print(\"Loading model and tokenizer...\")\n",
        "tokenizer = AutoTokenizer.from_pretrained(\"TinyLlama/TinyLlama-1.1B-intermediate-step-1431k-3T\")\n",
        "model = AutoModelForCausalLM.from_pretrained(\"TinyLlama/TinyLlama-1.1B-intermediate-step-1431k-3T\")\n",
        "\n",
        "# Check if GPU is available and use it if possible\n",
        "device = torch.device(\"cuda\" if torch.cuda.is_available() else \"cpu\")\n",
        "model = model.to(device)\n",
        "print(f\"Model loaded on device: {device}\")\n",
        "\n",
        "async def start(update: Update, context):\n",
        "    \"\"\"Respond to the /start command.\"\"\"\n",
        "    await update.message.reply_text(\"Hello! I am your AI assistant. How can I help you today?\")\n",
        "\n",
        "async def process_message(update: Update, context):\n",
        "    \"\"\"Handle user messages, pass them to the model, and return the response.\"\"\"\n",
        "    try:\n",
        "        user_input = update.message.text\n",
        "        print(f\"User input received: {user_input}\")\n",
        "\n",
        "        # Tokenizing the input\n",
        "        inputs = tokenizer(user_input, return_tensors=\"pt\").to(device)\n",
        "        print(f\"Tokenized input: {inputs}\")  # Debugging the tokenized input\n",
        "\n",
        "        # Generating response\n",
        "        outputs = model.generate(inputs[\"input_ids\"], max_length=50, num_return_sequences=1)\n",
        "        print(f\"Model raw output (token IDs): {outputs}\")  # Debugging raw model output\n",
        "\n",
        "        # Decoding the output\n",
        "        ai_response = tokenizer.decode(outputs[0], skip_special_tokens=True)\n",
        "        print(f\"Decoded response: {ai_response}\")  # Debugging the decoded response\n",
        "\n",
        "        # Send response to user\n",
        "        await update.message.reply_text(ai_response)\n",
        "    except Exception as e:\n",
        "        print(f\"Error: {e}\")\n",
        "        await update.message.reply_text(\"Oops! Something went wrong. Please try again.\")\n",
        "\n",
        "# Set up the bot application\n",
        "app = ApplicationBuilder().token(API_TOKEN).build()\n",
        "\n",
        "# Add command handlers\n",
        "app.add_handler(CommandHandler(\"start\", start))\n",
        "app.add_handler(MessageHandler(filters.TEXT & ~filters.COMMAND, process_message))\n",
        "\n",
        "if __name__ == \"__main__\":\n",
        "    print(\"Bot is running...\")\n",
        "    app.run_polling()\n"
      ]
    }
  ]
}